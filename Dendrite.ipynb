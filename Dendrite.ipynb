{
 "cells": [
  {
   "cell_type": "markdown",
   "id": "7f07a5d9",
   "metadata": {},
   "source": [
    "# Importing The Libraries"
   ]
  },
  {
   "cell_type": "code",
   "execution_count": 2,
   "id": "29d34c1f",
   "metadata": {},
   "outputs": [],
   "source": [
    "import pandas as pd\n",
    "import numpy as np\n",
    "import json"
   ]
  },
  {
   "cell_type": "markdown",
   "id": "059ff73c",
   "metadata": {},
   "source": [
    "#  Parsing the json file "
   ]
  },
  {
   "cell_type": "code",
   "execution_count": 3,
   "id": "24f76861",
   "metadata": {},
   "outputs": [],
   "source": [
    "with open('algoparams_from_ui.json') as f:\n",
    "    data = json.load(f)\n"
   ]
  },
  {
   "cell_type": "code",
   "execution_count": 4,
   "id": "50f74a79",
   "metadata": {},
   "outputs": [],
   "source": [
    "target = data['design_state_data']['target']\n",
    "models = data['design_state_data']['algorithms']"
   ]
  },
  {
   "cell_type": "code",
   "execution_count": 5,
   "id": "9ddb9bd4",
   "metadata": {},
   "outputs": [
    {
     "data": {
      "text/plain": [
       "{'prediction_type': 'Regression',\n",
       " 'target': 'petal_width',\n",
       " 'type': 'regression',\n",
       " 'partitioning': True}"
      ]
     },
     "execution_count": 5,
     "metadata": {},
     "output_type": "execute_result"
    }
   ],
   "source": [
    "target"
   ]
  },
  {
   "cell_type": "code",
   "execution_count": 6,
   "id": "d4f28e5b",
   "metadata": {},
   "outputs": [
    {
     "data": {
      "text/plain": [
       "{'RandomForestClassifier': {'model_name': 'Random Forest Classifier',\n",
       "  'is_selected': False,\n",
       "  'min_trees': 10,\n",
       "  'max_trees': 30,\n",
       "  'feature_sampling_statergy': 'Default',\n",
       "  'min_depth': 20,\n",
       "  'max_depth': 30,\n",
       "  'min_samples_per_leaf_min_value': 5,\n",
       "  'min_samples_per_leaf_max_value': 50,\n",
       "  'parallelism': 0},\n",
       " 'RandomForestRegressor': {'model_name': 'Random Forest Regressor',\n",
       "  'is_selected': True,\n",
       "  'min_trees': 10,\n",
       "  'max_trees': 20,\n",
       "  'feature_sampling_statergy': 'Default',\n",
       "  'min_depth': 20,\n",
       "  'max_depth': 25,\n",
       "  'min_samples_per_leaf_min_value': 5,\n",
       "  'min_samples_per_leaf_max_value': 10,\n",
       "  'parallelism': 0},\n",
       " 'GBTClassifier': {'model_name': 'Gradient Boosted Trees',\n",
       "  'is_selected': False,\n",
       "  'num_of_BoostingStages': [67, 89],\n",
       "  'feature_sampling_statergy': 'Fixed number',\n",
       "  'learningRate': [],\n",
       "  'use_deviance': True,\n",
       "  'use_exponential': False,\n",
       "  'fixed_number': 22,\n",
       "  'min_subsample': 1,\n",
       "  'max_subsample': 2,\n",
       "  'min_stepsize': 0.1,\n",
       "  'max_stepsize': 0.5,\n",
       "  'min_iter': 20,\n",
       "  'max_iter': 40,\n",
       "  'min_depth': 5,\n",
       "  'max_depth': 7},\n",
       " 'GBTRegressor': {'model_name': 'Gradient Boosted Trees',\n",
       "  'is_selected': False,\n",
       "  'num_of_BoostingStages': [67, 89],\n",
       "  'feature_sampling_statergy': 'Fixed number',\n",
       "  'use_deviance': True,\n",
       "  'use_exponential': False,\n",
       "  'fixed_number': 22,\n",
       "  'min_subsample': 1,\n",
       "  'max_subsample': 2,\n",
       "  'min_stepsize': 0.1,\n",
       "  'max_stepsize': 0.5,\n",
       "  'min_iter': 20,\n",
       "  'max_iter': 40,\n",
       "  'min_depth': 5,\n",
       "  'max_depth': 7},\n",
       " 'LinearRegression': {'model_name': 'LinearRegression',\n",
       "  'is_selected': False,\n",
       "  'parallelism': 2,\n",
       "  'min_iter': 30,\n",
       "  'max_iter': 50,\n",
       "  'min_regparam': 0.5,\n",
       "  'max_regparam': 0.8,\n",
       "  'min_elasticnet': 0.5,\n",
       "  'max_elasticnet': 0.8},\n",
       " 'LogisticRegression': {'model_name': 'LogisticRegression',\n",
       "  'is_selected': False,\n",
       "  'parallelism': 2,\n",
       "  'min_iter': 30,\n",
       "  'max_iter': 50,\n",
       "  'min_regparam': 0.5,\n",
       "  'max_regparam': 0.8,\n",
       "  'min_elasticnet': 0.5,\n",
       "  'max_elasticnet': 0.8},\n",
       " 'RidgeRegression': {'model_name': 'RidgeRegression',\n",
       "  'is_selected': False,\n",
       "  'regularization_term': 'Specify values to test',\n",
       "  'min_iter': 30,\n",
       "  'max_iter': 50,\n",
       "  'min_regparam': 0.5,\n",
       "  'max_regparam': 0.8},\n",
       " 'LassoRegression': {'model_name': 'Lasso Regression',\n",
       "  'is_selected': False,\n",
       "  'regularization_term': 'Specify values to test',\n",
       "  'min_iter': 30,\n",
       "  'max_iter': 50,\n",
       "  'min_regparam': 0.5,\n",
       "  'max_regparam': 0.8},\n",
       " 'ElasticNetRegression': {'model_name': 'Lasso Regression',\n",
       "  'is_selected': False,\n",
       "  'regularization_term': 'Specify values to test',\n",
       "  'min_iter': 30,\n",
       "  'max_iter': 50,\n",
       "  'min_regparam': 0.5,\n",
       "  'max_regparam': 0.8,\n",
       "  'min_elasticnet': 0.5,\n",
       "  'max_elasticnet': 0.8},\n",
       " 'xg_boost': {'model_name': 'XG Boost',\n",
       "  'is_selected': False,\n",
       "  'use_gradient_boosted_tree': True,\n",
       "  'dart': True,\n",
       "  'tree_method': '',\n",
       "  'random_state': 0,\n",
       "  'max_num_of_trees': 0,\n",
       "  'early_stopping': True,\n",
       "  'early_stopping_rounds': 2,\n",
       "  'max_depth_of_tree': [56, 89],\n",
       "  'learningRate': [89, 76],\n",
       "  'l1_regularization': [77],\n",
       "  'l2_regularization': [78],\n",
       "  'gamma': [68],\n",
       "  'min_child_weight': [67],\n",
       "  'sub_sample': [67],\n",
       "  'col_sample_by_tree': [67],\n",
       "  'replace_missing_values': False,\n",
       "  'parallelism': 0},\n",
       " 'DecisionTreeRegressor': {'model_name': 'Decision Tree',\n",
       "  'is_selected': False,\n",
       "  'min_depth': 4,\n",
       "  'max_depth': 7,\n",
       "  'use_gini': False,\n",
       "  'use_entropy': True,\n",
       "  'min_samples_per_leaf': [12, 6],\n",
       "  'use_best': True,\n",
       "  'use_random': True},\n",
       " 'DecisionTreeClassifier': {'model_name': 'Decision Tree',\n",
       "  'is_selected': False,\n",
       "  'min_depth': 4,\n",
       "  'max_depth': 7,\n",
       "  'use_gini': False,\n",
       "  'use_entropy': True,\n",
       "  'min_samples_per_leaf': [12, 6],\n",
       "  'use_best': True,\n",
       "  'use_random': True},\n",
       " 'SVM': {'model_name': 'Support Vector Machine',\n",
       "  'is_selected': False,\n",
       "  'linear_kernel': True,\n",
       "  'rep_kernel': True,\n",
       "  'polynomial_kernel': True,\n",
       "  'sigmoid_kernel': True,\n",
       "  'c_value': [566, 79],\n",
       "  'auto': True,\n",
       "  'scale': True,\n",
       "  'custom_gamma_values': True,\n",
       "  'tolerance': 7,\n",
       "  'max_iterations': 7},\n",
       " 'SGD': {'model_name': 'Stochastic Gradient Descent',\n",
       "  'is_selected': False,\n",
       "  'use_logistics': True,\n",
       "  'use_modified_hubber_loss': False,\n",
       "  'max_iterations': False,\n",
       "  'tolerance': 56,\n",
       "  'use_l1_regularization': 'on',\n",
       "  'use_l2_regularization': 'on',\n",
       "  'use_elastic_net_regularization': True,\n",
       "  'alpha_value': [79, 56],\n",
       "  'parallelism': 1},\n",
       " 'KNN': {'model_name': 'KNN',\n",
       "  'is_selected': False,\n",
       "  'k_value': [78],\n",
       "  'distance_weighting': True,\n",
       "  'neighbour_finding_algorithm': 'Automatic',\n",
       "  'random_state': 0,\n",
       "  'p_value': 0},\n",
       " 'extra_random_trees': {'model_name': 'Extra Random Trees',\n",
       "  'is_selected': False,\n",
       "  'num_of_trees': [45, 489],\n",
       "  'feature_sampling_statergy': 'Square root and Logarithm',\n",
       "  'max_depth': [12, 45],\n",
       "  'min_samples_per_leaf': [78, 56],\n",
       "  'parallelism': 3},\n",
       " 'neural_network': {'model_name': 'Neural Network',\n",
       "  'is_selected': False,\n",
       "  'hidden_layer_sizes': [67, 89],\n",
       "  'activation': '',\n",
       "  'alpha_value': 0,\n",
       "  'max_iterations': 0,\n",
       "  'convergence_tolerance': 0,\n",
       "  'early_stopping': True,\n",
       "  'solver': 'ADAM',\n",
       "  'shuffle_data': True,\n",
       "  'initial_learning_rate': 0,\n",
       "  'automatic_batching': True,\n",
       "  'beta_1': 0,\n",
       "  'beta_2': 0,\n",
       "  'epsilon': 0,\n",
       "  'power_t': 0,\n",
       "  'momentum': 0,\n",
       "  'use_nesterov_momentum': False}}"
      ]
     },
     "execution_count": 6,
     "metadata": {},
     "output_type": "execute_result"
    }
   ],
   "source": [
    "models"
   ]
  },
  {
   "cell_type": "markdown",
   "id": "67ce7724",
   "metadata": {},
   "source": [
    "# Loading The Dataset and Checking for null values"
   ]
  },
  {
   "cell_type": "code",
   "execution_count": 8,
   "id": "c191e8cd",
   "metadata": {},
   "outputs": [],
   "source": [
    "iris = pd.read_csv('iris.csv')"
   ]
  },
  {
   "cell_type": "code",
   "execution_count": 9,
   "id": "afd9fc61",
   "metadata": {},
   "outputs": [
    {
     "data": {
      "text/plain": [
       "sepal_length    0\n",
       "sepal_width     0\n",
       "petal_length    0\n",
       "petal_width     0\n",
       "species         0\n",
       "dtype: int64"
      ]
     },
     "execution_count": 9,
     "metadata": {},
     "output_type": "execute_result"
    }
   ],
   "source": [
    "iris.isnull().sum()"
   ]
  },
  {
   "cell_type": "code",
   "execution_count": 10,
   "id": "ec22fa5d",
   "metadata": {},
   "outputs": [
    {
     "data": {
      "text/plain": [
       "Iris-setosa        50\n",
       "Iris-versicolor    50\n",
       "Iris-virginica     50\n",
       "Name: species, dtype: int64"
      ]
     },
     "execution_count": 10,
     "metadata": {},
     "output_type": "execute_result"
    }
   ],
   "source": [
    "iris['species'].value_counts()"
   ]
  },
  {
   "cell_type": "code",
   "execution_count": 11,
   "id": "fdebe4e8",
   "metadata": {},
   "outputs": [
    {
     "name": "stdout",
     "output_type": "stream",
     "text": [
      "<class 'pandas.core.frame.DataFrame'>\n",
      "RangeIndex: 150 entries, 0 to 149\n",
      "Data columns (total 5 columns):\n",
      " #   Column        Non-Null Count  Dtype  \n",
      "---  ------        --------------  -----  \n",
      " 0   sepal_length  150 non-null    float64\n",
      " 1   sepal_width   150 non-null    float64\n",
      " 2   petal_length  150 non-null    float64\n",
      " 3   petal_width   150 non-null    float64\n",
      " 4   species       150 non-null    object \n",
      "dtypes: float64(4), object(1)\n",
      "memory usage: 6.0+ KB\n"
     ]
    }
   ],
   "source": [
    "iris.info()"
   ]
  },
  {
   "cell_type": "code",
   "execution_count": 12,
   "id": "fe20eb65",
   "metadata": {},
   "outputs": [
    {
     "data": {
      "text/plain": [
       "0"
      ]
     },
     "execution_count": 12,
     "metadata": {},
     "output_type": "execute_result"
    }
   ],
   "source": [
    "(iris['petal_width'] == 0).sum()"
   ]
  },
  {
   "cell_type": "code",
   "execution_count": 13,
   "id": "44f42feb",
   "metadata": {},
   "outputs": [
    {
     "data": {
      "text/plain": [
       "0"
      ]
     },
     "execution_count": 13,
     "metadata": {},
     "output_type": "execute_result"
    }
   ],
   "source": [
    "(iris['sepal_length'] == 0).sum()"
   ]
  },
  {
   "cell_type": "code",
   "execution_count": 14,
   "id": "7d2f94f3",
   "metadata": {},
   "outputs": [
    {
     "data": {
      "text/plain": [
       "0"
      ]
     },
     "execution_count": 14,
     "metadata": {},
     "output_type": "execute_result"
    }
   ],
   "source": [
    "(iris['sepal_width'] == 0).sum()"
   ]
  },
  {
   "cell_type": "code",
   "execution_count": 16,
   "id": "f850e46b",
   "metadata": {},
   "outputs": [
    {
     "data": {
      "text/plain": [
       "0"
      ]
     },
     "execution_count": 16,
     "metadata": {},
     "output_type": "execute_result"
    }
   ],
   "source": [
    "(iris['petal_length'] == 0).sum()"
   ]
  },
  {
   "cell_type": "code",
   "execution_count": null,
   "id": "7d9b569e",
   "metadata": {},
   "outputs": [],
   "source": [
    "# As there is no missing values there is no need to impute values"
   ]
  },
  {
   "cell_type": "markdown",
   "id": "d2db2ed0",
   "metadata": {},
   "source": [
    "# Training the Model"
   ]
  },
  {
   "cell_type": "code",
   "execution_count": 17,
   "id": "0d1a3f9a",
   "metadata": {},
   "outputs": [],
   "source": [
    "#one hot encoding on dataset\n",
    "\n",
    "iris = pd.get_dummies(iris,columns=['species'],drop_first = True)\n",
    " "
   ]
  },
  {
   "cell_type": "code",
   "execution_count": 18,
   "id": "2c048219",
   "metadata": {},
   "outputs": [],
   "source": [
    "X = iris.drop(columns = ['petal_width'],axis = 1)\n",
    "Y = iris.petal_width"
   ]
  },
  {
   "cell_type": "code",
   "execution_count": 19,
   "id": "f34d8b39",
   "metadata": {},
   "outputs": [],
   "source": [
    "from sklearn.model_selection import train_test_split\n",
    "X_train, X_test, Y_train, Y_test = train_test_split(X,Y, test_size=0.2, random_state=2)\n"
   ]
  },
  {
   "cell_type": "code",
   "execution_count": 20,
   "id": "daa98004",
   "metadata": {},
   "outputs": [],
   "source": [
    "def models(X_train,Y_train):\n",
    "    \n",
    "      \n",
    "      #Using Random Forest Regression\n",
    "    from sklearn.ensemble import RandomForestRegressor\n",
    "    rfr = RandomForestRegressor(n_estimators = 20 ,max_depth = 20 , min_samples_leaf = 10)\n",
    "    rfr.fit(X_train,Y_train)\n",
    "    \n",
    "    #Using GBT Regressor\n",
    "    from sklearn.ensemble import GradientBoostingRegressor\n",
    "    gbtr = GradientBoostingRegressor(n_estimators= 89,max_depth=7)\n",
    "    gbtr.fit(X_train,Y_train)\n",
    "    \n",
    "    #Using Linear Regression\n",
    "    from sklearn.linear_model import LinearRegression\n",
    "    lr = LinearRegression()\n",
    "    lr.fit(X_train,Y_train)\n",
    "    \n",
    "    #Using Ridge Regression\n",
    "    from sklearn.linear_model import Ridge\n",
    "    rdr = Ridge(max_iter = 50)\n",
    "    rdr.fit(X_train,Y_train)\n",
    "    \n",
    "    #Using Lasso Regression\n",
    "    from sklearn.linear_model import Lasso\n",
    "    lsr = Lasso(max_iter = 50)\n",
    "    lsr.fit(X_train,Y_train)\n",
    "    \n",
    "    #Using Elastic Net Regression\n",
    "    from sklearn.linear_model import ElasticNet\n",
    "    enr = ElasticNet(max_iter = 50)\n",
    "    enr.fit(X_train,Y_train)\n",
    "    \n",
    "    #Using Xgboost\n",
    "    import xgboost as xg\n",
    "    xgb_r = xg.XGBRegressor()\n",
    "    xgb_r.fit(X_train,Y_train)\n",
    "    \n",
    "    #Using Decision Tree regression\n",
    "    from sklearn.tree import DecisionTreeRegressor\n",
    "    dtr = DecisionTreeRegressor(min_samples_leaf = 12)\n",
    "    dtr.fit(X_train,Y_train)\n",
    "    \n",
    "    #Using SVR \n",
    "    from sklearn.svm import SVR\n",
    "    svr = SVR(kernel = 'rbf',gamma = 7,max_iter = 7)\n",
    "    svr.fit(X_train,Y_train)\n",
    "    \n",
    "    \n",
    "    \n",
    "\n",
    "  \n",
    "      \n",
    "\n",
    "    #print model accuracy on the training data.\n",
    "    print('[0]Random Forest Regression Training Accuracy:', rfr.score(X_train, Y_train))\n",
    "    print('[1]GBT Regressor Training Accuracy:', gbtr.score(X_train, Y_train))\n",
    "    print('[2]Linear Regression Training Accuracy:', lr.score(X_train, Y_train))\n",
    "    print('[3]Ridge Regression Training Accuracy:', rdr.score(X_train, Y_train))\n",
    "    print('[4]Lasso Regression Training Accuracy:', lsr.score(X_train, Y_train))\n",
    "    print('[5]Elastic Net Regression Training Accuracy:', enr.score(X_train, Y_train))\n",
    "    print('[6]XGBoost Regression Training Accuracy:', xgb_r.score(X_train, Y_train))\n",
    "    print('[7]Decision Tree Regression Training Accuracy:', dtr.score(X_train, Y_train))\n",
    "    print('[8]SVM Regression Training Accuracy:', svr.score(X_train, Y_train))\n",
    "\n",
    "\n",
    "\n",
    "    return rfr, gbtr, lr,rdr, lsr, enr, xgb_r,dtr,svr"
   ]
  },
  {
   "cell_type": "code",
   "execution_count": 21,
   "id": "6880bdcc",
   "metadata": {},
   "outputs": [
    {
     "name": "stdout",
     "output_type": "stream",
     "text": [
      "[0]Random Forest Regression Training Accuracy: 0.9557606373562959\n",
      "[1]GBT Regressor Training Accuracy: 0.9999243417061058\n",
      "[2]Linear Regression Training Accuracy: 0.9537415449043007\n",
      "[3]Ridge Regression Training Accuracy: 0.9485347906986835\n",
      "[4]Lasso Regression Training Accuracy: 0.33165888295129764\n",
      "[5]Elastic Net Regression Training Accuracy: 0.7051834513099366\n",
      "[6]XGBoost Regression Training Accuracy: 0.9999094687064979\n",
      "[7]Decision Tree Regression Training Accuracy: 0.9489157167973766\n",
      "[8]SVM Regression Training Accuracy: 0.8530640483214396\n"
     ]
    },
    {
     "name": "stderr",
     "output_type": "stream",
     "text": [
      "c:\\users\\ns\\appdata\\local\\programs\\python\\python39\\lib\\site-packages\\sklearn\\svm\\_base.py:255: ConvergenceWarning: Solver terminated early (max_iter=7).  Consider pre-processing your data with StandardScaler or MinMaxScaler.\n",
      "  warnings.warn('Solver terminated early (max_iter=%i).'\n"
     ]
    }
   ],
   "source": [
    "#Get and train all of the models\n",
    "model = models(X_train,Y_train)"
   ]
  },
  {
   "cell_type": "markdown",
   "id": "b8f2f961",
   "metadata": {},
   "source": [
    "# Evaluating The Model "
   ]
  },
  {
   "cell_type": "code",
   "execution_count": 22,
   "id": "428baa35",
   "metadata": {},
   "outputs": [
    {
     "name": "stdout",
     "output_type": "stream",
     "text": [
      "[0]Random Forest Regression Training Accuracy: 0.95605040052256\n",
      "[1]GBT Regressor Training Accuracy: 0.9999244317158402\n",
      "[2]Linear Regression Training Accuracy: 0.9537415449043007\n",
      "[3]Ridge Regression Training Accuracy: 0.9485347906986835\n",
      "[4]Lasso Regression Training Accuracy: 0.33165888295129764\n",
      "[5]Elastic Net Regression Training Accuracy: 0.7051834513099366\n",
      "[6]XGBoost Regression Training Accuracy: 0.9999094687064979\n",
      "[7]Decision Tree Regression Training Accuracy: 0.9489157167973766\n",
      "[8]SVM Regression Training Accuracy: 0.8530640483214396\n"
     ]
    },
    {
     "name": "stderr",
     "output_type": "stream",
     "text": [
      "c:\\users\\ns\\appdata\\local\\programs\\python\\python39\\lib\\site-packages\\sklearn\\svm\\_base.py:255: ConvergenceWarning: Solver terminated early (max_iter=7).  Consider pre-processing your data with StandardScaler or MinMaxScaler.\n",
      "  warnings.warn('Solver terminated early (max_iter=%i).'\n"
     ]
    }
   ],
   "source": [
    "model = models(X_train,Y_train)"
   ]
  },
  {
   "cell_type": "code",
   "execution_count": 23,
   "id": "eec8c78a",
   "metadata": {},
   "outputs": [
    {
     "name": "stdout",
     "output_type": "stream",
     "text": [
      "Mean Squared Error for RandomForestRegressor(max_depth=20, min_samples_leaf=10, n_estimators=20)  is  0.028631223856810106\n",
      "Root Mean Squared Error for RandomForestRegressor(max_depth=20, min_samples_leaf=10, n_estimators=20) is 0.1692076353383916\n",
      "Mean Absolute Error for RandomForestRegressor(max_depth=20, min_samples_leaf=10, n_estimators=20) is 0.12464361275068919\n",
      "\n",
      "\n",
      "Mean Squared Error for GradientBoostingRegressor(max_depth=7, n_estimators=89)  is  0.04879288750322151\n",
      "Root Mean Squared Error for GradientBoostingRegressor(max_depth=7, n_estimators=89) is 0.22089112137707462\n",
      "Mean Absolute Error for GradientBoostingRegressor(max_depth=7, n_estimators=89) is 0.14751458084899077\n",
      "\n",
      "\n",
      "Mean Squared Error for LinearRegression()  is  0.02940100195363562\n",
      "Root Mean Squared Error for LinearRegression() is 0.17146720372606425\n",
      "Mean Absolute Error for LinearRegression() is 0.1248833346299645\n",
      "\n",
      "\n",
      "Mean Squared Error for Ridge(max_iter=50)  is  0.029776941892131693\n",
      "Root Mean Squared Error for Ridge(max_iter=50) is 0.17255996607594618\n",
      "Mean Absolute Error for Ridge(max_iter=50) is 0.12599328084644806\n",
      "\n",
      "\n",
      "Mean Squared Error for Lasso(max_iter=50)  is  0.43390883616450243\n",
      "Root Mean Squared Error for Lasso(max_iter=50) is 0.6587175693455447\n",
      "Mean Absolute Error for Lasso(max_iter=50) is 0.5706362531691952\n",
      "\n",
      "\n",
      "Mean Squared Error for ElasticNet(max_iter=50)  is  0.18623902910267418\n",
      "Root Mean Squared Error for ElasticNet(max_iter=50) is 0.4315542018132533\n",
      "Mean Absolute Error for ElasticNet(max_iter=50) is 0.3624330538996461\n",
      "\n",
      "\n",
      "Mean Squared Error for XGBRegressor(base_score=0.5, booster='gbtree', callbacks=None,\n",
      "             colsample_bylevel=1, colsample_bynode=1, colsample_bytree=1,\n",
      "             early_stopping_rounds=None, enable_categorical=False,\n",
      "             eval_metric=None, gamma=0, gpu_id=-1, grow_policy='depthwise',\n",
      "             importance_type=None, interaction_constraints='',\n",
      "             learning_rate=0.300000012, max_bin=256, max_cat_to_onehot=4,\n",
      "             max_delta_step=0, max_depth=6, max_leaves=0, min_child_weight=1,\n",
      "             missing=nan, monotone_constraints='()', n_estimators=100, n_jobs=0,\n",
      "             num_parallel_tree=1, predictor='auto', random_state=0, reg_alpha=0,\n",
      "             reg_lambda=1, ...)  is  0.04638244483512975\n",
      "Root Mean Squared Error for XGBRegressor(base_score=0.5, booster='gbtree', callbacks=None,\n",
      "             colsample_bylevel=1, colsample_bynode=1, colsample_bytree=1,\n",
      "             early_stopping_rounds=None, enable_categorical=False,\n",
      "             eval_metric=None, gamma=0, gpu_id=-1, grow_policy='depthwise',\n",
      "             importance_type=None, interaction_constraints='',\n",
      "             learning_rate=0.300000012, max_bin=256, max_cat_to_onehot=4,\n",
      "             max_delta_step=0, max_depth=6, max_leaves=0, min_child_weight=1,\n",
      "             missing=nan, monotone_constraints='()', n_estimators=100, n_jobs=0,\n",
      "             num_parallel_tree=1, predictor='auto', random_state=0, reg_alpha=0,\n",
      "             reg_lambda=1, ...) is 0.2153658395269077\n",
      "Mean Absolute Error for XGBRegressor(base_score=0.5, booster='gbtree', callbacks=None,\n",
      "             colsample_bylevel=1, colsample_bynode=1, colsample_bytree=1,\n",
      "             early_stopping_rounds=None, enable_categorical=False,\n",
      "             eval_metric=None, gamma=0, gpu_id=-1, grow_policy='depthwise',\n",
      "             importance_type=None, interaction_constraints='',\n",
      "             learning_rate=0.300000012, max_bin=256, max_cat_to_onehot=4,\n",
      "             max_delta_step=0, max_depth=6, max_leaves=0, min_child_weight=1,\n",
      "             missing=nan, monotone_constraints='()', n_estimators=100, n_jobs=0,\n",
      "             num_parallel_tree=1, predictor='auto', random_state=0, reg_alpha=0,\n",
      "             reg_lambda=1, ...) is 0.14557498544454575\n",
      "\n",
      "\n",
      "Mean Squared Error for DecisionTreeRegressor(min_samples_leaf=12)  is  0.03354250257201645\n",
      "Root Mean Squared Error for DecisionTreeRegressor(min_samples_leaf=12) is 0.18314612355170515\n",
      "Mean Absolute Error for DecisionTreeRegressor(min_samples_leaf=12) is 0.13384259259259262\n",
      "\n",
      "\n",
      "Mean Squared Error for SVR(gamma=7, max_iter=7)  is  0.15438432323287438\n",
      "Root Mean Squared Error for SVR(gamma=7, max_iter=7) is 0.3929177054204536\n",
      "Mean Absolute Error for SVR(gamma=7, max_iter=7) is 0.3020351226837967\n",
      "\n",
      "\n"
     ]
    }
   ],
   "source": [
    "from sklearn.metrics import mean_squared_error,mean_absolute_error\n",
    "for i in range(len(model)):\n",
    "    y = list(Y_test)\n",
    "    \n",
    "\n",
    "    pred = model[i].predict(X_test)\n",
    "    mse = mean_squared_error(y,pred)\n",
    "    rmse = mean_squared_error(y,pred,squared=False)\n",
    "    mae = mean_absolute_error(y,pred)\n",
    "    print(f\"Mean Squared Error for {model[i]}  is  {mse}\")\n",
    "    print(f\"Root Mean Squared Error for {model[i]} is {rmse}\")\n",
    "    print(f\"Mean Absolute Error for {model[i]} is {mae}\")\n",
    "    print()\n",
    "    print()\n"
   ]
  },
  {
   "cell_type": "code",
   "execution_count": null,
   "id": "14a8c6b1",
   "metadata": {},
   "outputs": [],
   "source": []
  }
 ],
 "metadata": {
  "kernelspec": {
   "display_name": "Python 3",
   "language": "python",
   "name": "python3"
  },
  "language_info": {
   "codemirror_mode": {
    "name": "ipython",
    "version": 3
   },
   "file_extension": ".py",
   "mimetype": "text/x-python",
   "name": "python",
   "nbconvert_exporter": "python",
   "pygments_lexer": "ipython3",
   "version": "3.9.1"
  }
 },
 "nbformat": 4,
 "nbformat_minor": 5
}
